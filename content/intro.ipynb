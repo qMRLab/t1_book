{
 "cells": [
  {
   "cell_type": "markdown",
   "metadata": {
    "kernel": "SoS"
   },
   "source": [
    "# Quantitative T<sub>1</sub> Mapping\n",
    "\n",
    "This Jupyter Book is a series of interactive tutorials about quantitative T<sub>1</sub> mapping, powered by <a href=\"https://github.com/neuropoly/qMRLab\" target=\"_blank\">qMRLab</a>. Most figures are generated with <a href=\"https://plot.ly/python/\" target=\"_blank\">Plot.ly</a> – you can play with them by hovering your mouse over the data, zooming in (click and drag) and out (double click), moving the sliders, and changing the drop-down options. To view the code that was used to generate the figures in this blog post, hover your cursor in the top left corner of the frame that contains the tutorial and click the checkbox \"All cells\" in the popup that appears.\n",
    "\n",
    "Jupyter Lab notebooks of these tutorials are also available through MyBinder, and inline code modification inside the Jupyter Book is provided by [Thebelab](https://github.com/minrk/thebelab). For both options, you can modify the code, change the figures, and regenerate the html that was used to create the tutorial below. This Jupyter Book also uses a <a href=\"https://vatlab.github.io/sos-docs/\" target=\"_blank\">Script of Scripts (SoS)</a> kernel, allowing us to process the data using qMRLab in MATLAB/Octave and plot the figures with Plot.ly using Python, all within the same Jupyter Notebook.\n",
    "\n",
    "## Acknowledgements\n",
    "\n",
    "This work was supported by <a href=\"https://www.polymtl.ca\" target=\"_blank\">Polytechnique de Montréal</a>, the <a href=\"http://conp.ca\" target=\"_blank\">Canadian Open Neuroscience Platform (CONP)</a> initiative, the <a href=\"https://www.rbiq-qbin.qc.ca/\" target=\"_blank\">Quebec Bio-Imaging Network (QBIN)</a>, and the <a href=\"https://www.icm-mhi.org/en/foundation\" target=\"_blank\">Montreal Heart Institute Foundation</a>.\n"
   ]
  },
  {
   "cell_type": "code",
   "execution_count": null,
   "metadata": {
    "kernel": "SoS"
   },
   "outputs": [],
   "source": []
  }
 ],
 "metadata": {
  "kernelspec": {
   "display_name": "SoS",
   "language": "sos",
   "name": "sos"
  },
  "language_info": {
   "codemirror_mode": "sos",
   "file_extension": ".sos",
   "mimetype": "text/x-sos",
   "name": "sos",
   "nbconvert_exporter": "sos_notebook.converter.SoS_Exporter",
   "pygments_lexer": "sos"
  },
  "sos": {
   "kernels": [
    [
     "SoS",
     "sos",
     "",
     ""
    ]
   ],
   "version": "0.17.2"
  }
 },
 "nbformat": 4,
 "nbformat_minor": 2
}
